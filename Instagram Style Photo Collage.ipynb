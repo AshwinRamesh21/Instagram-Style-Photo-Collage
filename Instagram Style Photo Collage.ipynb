{
 "cells": [
  {
   "cell_type": "code",
   "execution_count": null,
   "id": "75b7483d",
   "metadata": {},
   "outputs": [],
   "source": [
    "# Importing all the useful libraries\n",
    "import numpy as np\n",
    "import cv2\n",
    "import pandas as pd\n",
    "import matplotlib.pyplot as plt"
   ]
  },
  {
   "cell_type": "code",
   "execution_count": null,
   "id": "56a60f95",
   "metadata": {},
   "outputs": [],
   "source": [
    "# reading images from dataset\n",
    "center = cv2.imread('C:/Users/ashwi/Documents/Python/ComputerVision/Photo-Collage-For-Instagram/assets/center.jpeg')\n",
    "center = cv2.cvtColor(center,cv2.COLOR_BGR2RGB)\n",
    "bottom_left = cv2.imread('C:/Users/ashwi/Documents/Python/ComputerVision/Photo-Collage-For-Instagram/assets/bottom_left.jpg')\n",
    "bottom_left = cv2.cvtColor(bottom_left,cv2.COLOR_BGR2RGB)\n",
    "bottom_right = cv2.imread('C:/Users/ashwi/Documents/Python/ComputerVision/Photo-Collage-For-Instagram/assets/bottom_right.jpg')\n",
    "bottom_right = cv2.cvtColor(bottom_right,cv2.COLOR_BGR2RGB)\n",
    "top_left = cv2.imread('C:/Users/ashwi/Documents/Python/ComputerVision/Photo-Collage-For-Instagram/assets/top_left.jpg')\n",
    "top_left = cv2.cvtColor(top_left,cv2.COLOR_BGR2RGB)\n",
    "top_right = cv2.imread('C:/Users/ashwi/Documents/Python/ComputerVision/Photo-Collage-For-Instagram/assets/top_right.jpg')\n",
    "top_right = cv2.cvtColor(top_right,cv2.COLOR_BGR2RGB)"
   ]
  },
  {
   "cell_type": "code",
   "execution_count": null,
   "id": "29cee851",
   "metadata": {},
   "outputs": [],
   "source": [
    "# plotting all images\n",
    "plt.imshow(center)\n",
    "plt.show()\n",
    "plt.imshow(top_left)\n",
    "plt.show()\n",
    "plt.imshow(top_right)\n",
    "plt.show()\n",
    "plt.imshow(bottom_left)\n",
    "plt.show()\n",
    "plt.imshow(bottom_right)\n",
    "plt.show()"
   ]
  },
  {
   "cell_type": "code",
   "execution_count": null,
   "id": "1beb6833",
   "metadata": {},
   "outputs": [],
   "source": [
    "print(center.shape)\n",
    "print(top_left.shape)\n",
    "print(top_right.shape)\n",
    "print(bottom_left.shape)\n",
    "print(bottom_right.shape)"
   ]
  },
  {
   "cell_type": "code",
   "execution_count": null,
   "id": "7ed71113",
   "metadata": {},
   "outputs": [],
   "source": [
    "center = cv2.resize(center,(100,100))\n",
    "top_left = cv2.resize(top_left,(200,200))\n",
    "top_right = cv2.resize(top_right,(200,200))\n",
    "bottom_left = cv2.resize(bottom_left,(200,200))\n",
    "bottom_right = cv2.resize(bottom_right,(200,200))"
   ]
  },
  {
   "cell_type": "code",
   "execution_count": null,
   "id": "621725e8",
   "metadata": {},
   "outputs": [],
   "source": [
    "print(center.shape)\n",
    "print(top_left.shape)\n",
    "print(top_right.shape)\n",
    "print(bottom_left.shape)\n",
    "print(bottom_right.shape)"
   ]
  },
  {
   "cell_type": "code",
   "execution_count": null,
   "id": "9e14c501",
   "metadata": {},
   "outputs": [],
   "source": [
    "plt.imshow(center)\n",
    "plt.show()\n",
    "plt.imshow(top_left)\n",
    "plt.show()\n",
    "plt.imshow(top_right)\n",
    "plt.show()\n",
    "plt.imshow(bottom_left)\n",
    "plt.show()\n",
    "plt.imshow(bottom_right)\n",
    "plt.show()"
   ]
  },
  {
   "cell_type": "code",
   "execution_count": null,
   "id": "4b760346",
   "metadata": {},
   "outputs": [],
   "source": [
    "def create_blank_black_canvas(width, height):\n",
    "    image = np.zeros((height, width, 3), np.uint8)\n",
    "    return image"
   ]
  },
  {
   "cell_type": "code",
   "execution_count": null,
   "id": "8ad86ed0",
   "metadata": {},
   "outputs": [],
   "source": [
    "canvas = create_blank_black_canvas(430, 430)\n",
    "canvas_for_center = create_blank_black_canvas(120, 120)\n",
    "plt.imshow(canvas)\n",
    "plt.show()\n",
    "plt.imshow(canvas_for_center)\n",
    "plt.show()"
   ]
  },
  {
   "cell_type": "code",
   "execution_count": null,
   "id": "9428f343",
   "metadata": {},
   "outputs": [],
   "source": [
    "canvas_for_center[10:110,10:110] = center\n",
    "plt.imshow(canvas_for_center)\n",
    "plt.show()"
   ]
  },
  {
   "cell_type": "code",
   "execution_count": null,
   "id": "4bb67302",
   "metadata": {},
   "outputs": [],
   "source": [
    "canvas[10:210,10:210] = top_left\n",
    "canvas[10:210,220:420] = top_right\n",
    "canvas[220:420,10:210] = bottom_left\n",
    "canvas[220:420,220:420] = bottom_right\n",
    "canvas[155:275,155:275] = canvas_for_center\n",
    "plt.imshow(canvas)\n",
    "plt.show()"
   ]
  }
 ],
 "metadata": {
  "kernelspec": {
   "display_name": "Python 3 (ipykernel)",
   "language": "python",
   "name": "python3"
  },
  "language_info": {
   "codemirror_mode": {
    "name": "ipython",
    "version": 3
   },
   "file_extension": ".py",
   "mimetype": "text/x-python",
   "name": "python",
   "nbconvert_exporter": "python",
   "pygments_lexer": "ipython3",
   "version": "3.7.7"
  },
  "vscode": {
   "interpreter": {
    "hash": "52b90c5d0cf812ba6a282f4be4d3ba06570d84836ba0f2234a9e5d637c9a4d02"
   }
  }
 },
 "nbformat": 4,
 "nbformat_minor": 5
}
